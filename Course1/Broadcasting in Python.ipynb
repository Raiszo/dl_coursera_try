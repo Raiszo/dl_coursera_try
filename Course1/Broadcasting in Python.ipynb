{
 "cells": [
  {
   "cell_type": "code",
   "execution_count": 1,
   "metadata": {
    "autoscroll": false,
    "collapsed": false,
    "ein.tags": "worksheet-0",
    "slideshow": {
     "slide_type": "-"
    }
   },
   "outputs": [
    {
     "name": "stdout",
     "output_type": "stream",
     "text": [
      "[[  56.      0.      4.4    67.  ]\n",
      " [   1.2   104.     52.      8.  ]\n",
      " [   1.8   135.      0.99    0.9 ]]\n"
     ]
    }
   ],
   "source": [
    "import numpy as np\n",
    "\t\n",
    "A = np.array([[56.0, 0.0, 4.4, 67.0],\n",
    "\t\t\t\t\t\t\t[1.2, 104.0, 52.0, 8.0],\n",
    "\t\t\t\t\t\t\t[1.8, 135.0, 0.99, 0.9]])\n",
    "print(A)"
   ]
  },
  {
   "cell_type": "code",
   "execution_count": 2,
   "metadata": {
    "autoscroll": false,
    "collapsed": false,
    "ein.tags": "worksheet-0",
    "slideshow": {
     "slide_type": "-"
    }
   },
   "outputs": [
    {
     "name": "stdout",
     "output_type": "stream",
     "text": [
      "[  59.    239.     57.39   75.9 ]\n"
     ]
    }
   ],
   "source": [
    "cal = A.sum(axis=0)\n",
    "print(cal)"
   ]
  },
  {
   "cell_type": "code",
   "execution_count": 6,
   "metadata": {
    "autoscroll": false,
    "collapsed": false,
    "ein.tags": "worksheet-0",
    "slideshow": {
     "slide_type": "-"
    }
   },
   "outputs": [
    {
     "name": "stdout",
     "output_type": "stream",
     "text": [
      "[[ 94.91525424   0.           7.66684091  88.2740448 ]\n",
      " [  2.03389831  43.51464435  90.60811988  10.54018445]\n",
      " [  3.05084746  56.48535565   1.72503921   1.18577075]]\n"
     ]
    }
   ],
   "source": [
    "percentage = 100 * A/cal.reshape(1,4)\n",
    "print(percentage)"
   ]
  }
 ],
 "metadata": {
  "name": "Untitled.ipynb"
 },
 "nbformat": 4,
 "nbformat_minor": 2
}
